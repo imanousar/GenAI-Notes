{
 "cells": [
  {
   "cell_type": "markdown",
   "id": "6f36f621-d2cb-43e7-89ad-41691ab266c1",
   "metadata": {},
   "source": [
    "## History Quiz\n",
    "\n",
    "Use of LangChain to create a History Quiz Bot\n",
    "\n",
    "* Writing a historical question that has a date as the correct answer\n",
    "* Getting the correct answer from LLM\n",
    "* Getting a Human user's best guess at at correct answer\n",
    "* Checking/reporting the difference between the correct answer and the user answer"
   ]
  },
  {
   "cell_type": "code",
   "execution_count": 27,
   "id": "3cde30a6-5b0b-475f-9460-809e174cac97",
   "metadata": {},
   "outputs": [],
   "source": [
    "import os \n",
    "from datetime import datetime\n",
    "\n",
    "from langchain.prompts import (\n",
    "    ChatPromptTemplate,\n",
    "    PromptTemplate,\n",
    "    SystemMessagePromptTemplate,\n",
    "    AIMessagePromptTemplate,\n",
    "    HumanMessagePromptTemplate,\n",
    ")\n",
    "from datetime import datetime\n",
    "from langchain.llms import OpenAI\n",
    "from langchain.output_parsers import DatetimeOutputParser\n",
    "from langchain.chat_models import ChatOpenAI"
   ]
  },
  {
   "cell_type": "code",
   "execution_count": 28,
   "id": "12f751c3",
   "metadata": {},
   "outputs": [],
   "source": [
    "# DELETE THIS CELL AFTER\n",
    "os.environ['OPENAI_KEY'] = 'openai_key'"
   ]
  },
  {
   "cell_type": "code",
   "execution_count": 83,
   "id": "c1e1fce6-7f28-4d74-a92b-0424c6abcd30",
   "metadata": {},
   "outputs": [],
   "source": [
    "class HistoryQuiz():\n",
    "    \n",
    "\n",
    "    def __init__(self) -> None:\n",
    "        self.api_key = os.getenv('OPENAI_KEY')\n",
    "        self.model = ChatOpenAI(openai_api_key=api_key)\n",
    "\n",
    "\n",
    "    def create_history_question(self,topic):\n",
    "        '''\n",
    "        This method should output a historical question about the topic that \n",
    "        has a date as the correct answer.\n",
    "        For example:\n",
    "        \n",
    "            \"On what date did World War 2 end?\"\n",
    "            \n",
    "        '''\n",
    "        # PART ONE: SYSTEM\n",
    "        system_template = \"\"\" You are a history expert in {topic}. You are \n",
    "                          familiar with all persons and events of {topic}\n",
    "                          and you know all the dates of the important events.\n",
    "\n",
    "                          Follow the instructions:\n",
    "                          - The response should include only the question\n",
    "                          - The correct answer should be a date\n",
    "                          \"\"\" \n",
    "        system_message_prompt = SystemMessagePromptTemplate.from_template(system_template)\n",
    "\n",
    "        # PART TWO: HUMAN REQUEST\n",
    "        human_template=\"\"\"Give me a quiz question about {topic}\"\"\"\n",
    "\n",
    "        human_message_prompt = HumanMessagePromptTemplate.from_template(human_template)\n",
    "       \n",
    "         # PART THREE: COMPILE TO CHAT\n",
    "        chat_prompt = ChatPromptTemplate.from_messages([system_message_prompt, \n",
    "                                                        human_message_prompt])\n",
    "        \n",
    "        # PART FOUR: INSERT VARIABLES\n",
    "        request = chat_prompt.format_prompt(topic=topic).to_messages()\n",
    "        # PART FIVE: CHAT REQUEST\n",
    "        \n",
    "        self.question = self.model(request, temperature=0.7)\n",
    "        \n",
    "        return self.question.content\n",
    "    \n",
    "    def get_AI_answer(self):\n",
    "        '''\n",
    "        This method should get the answer to the historical question from the method above.\n",
    "        Note: This answer must be in datetime format! Use DateTimeOutputParser to confirm!\n",
    "        \n",
    "        September 2, 1945 --> datetime.datetime(1945, 9, 2, 0, 0)\n",
    "        '''\n",
    "        output_parser = DatetimeOutputParser()\n",
    "\n",
    "        system_prompt = SystemMessagePromptTemplate.from_template(\"You always reply to questions only in datetime patterns.\")\n",
    "\n",
    "        template_text = \"{request}\\n{format_instructions}\"\n",
    "        human_prompt=HumanMessagePromptTemplate.from_template(template_text)\n",
    "        \n",
    "        chat_prompt = ChatPromptTemplate.from_messages([system_prompt,human_prompt])\n",
    "\n",
    "        request = chat_prompt.format_prompt(request=self.question,\n",
    "                   format_instructions=output_parser.get_format_instructions()\n",
    "                   ).to_messages()\n",
    "        \n",
    "        result = self.model(request,temperature=0)\n",
    "\n",
    "        try:\n",
    "            self.correct_datetime = output_parser.parse(result.content)\n",
    "        except: \n",
    "            return \"The result was not in a datetime format:\" + self.correct_datetime \n",
    "        \n",
    "        return self.correct_datetime\n",
    "\n",
    "\n",
    "    def get_user_answer(self):\n",
    "        '''\n",
    "        This method should grab a user answer and convert it to datetime. \n",
    "        It should collect a Year, Month, and Day.\n",
    "        You can just use input() for this.\n",
    "        '''\n",
    "        \n",
    "        year = int(input(\"Enter the year: \"))\n",
    "        while year < 0 and year == '': \n",
    "            year = int(input(\"Enter the year: \"))\n",
    "\n",
    "        month = int(input(\"Enter the month: \"))\n",
    "        while month > 12 or month < 1 or month == '': \n",
    "            month = int(input(\"Enter the month: \"))\n",
    "            \n",
    "        day = int(input(\"Enter the day: \"))\n",
    "        while day > 31 or day < 1 or day == '': \n",
    "            day = int(input(\"Enter the day: \"))\n",
    "        \n",
    "        self.user_datetime = datetime(year, month, day)\n",
    "        return self.user_datetime\n",
    "\n",
    "        \n",
    "    def check_user_answer(self,user_answer, ai_answer):\n",
    "        '''\n",
    "        Should check the user answer against the AI answer and return the \n",
    "        difference between them\n",
    "        '''\n",
    "        # print or return the difference between the answers here!\n",
    "        difference = user_answer - ai_answer\n",
    "        self.reply = f\"The difference is {difference.days} dates\"\n",
    "        return self.reply\n",
    "\n",
    "        \n",
    "        "
   ]
  },
  {
   "cell_type": "code",
   "execution_count": 84,
   "id": "dc92f877",
   "metadata": {},
   "outputs": [
    {
     "name": "stdout",
     "output_type": "stream",
     "text": [
      "When did the United States enter World War II?\n"
     ]
    }
   ],
   "source": [
    "quiz_bot = HistoryQuiz()\n",
    "question = quiz_bot.create_history_question(topic='World War 2')\n",
    "print(question)"
   ]
  },
  {
   "cell_type": "code",
   "execution_count": 86,
   "id": "7527ffdb",
   "metadata": {},
   "outputs": [
    {
     "name": "stdout",
     "output_type": "stream",
     "text": [
      "1941-12-07 00:00:00\n"
     ]
    }
   ],
   "source": [
    "ai_answer = quiz_bot.get_AI_answer()\n",
    "print(ai_answer)"
   ]
  },
  {
   "cell_type": "code",
   "execution_count": 71,
   "id": "e8eb40a9-789e-4666-81a6-a6a783dedaf6",
   "metadata": {},
   "outputs": [
    {
     "data": {
      "text/plain": [
       "datetime.datetime(1932, 12, 2, 0, 0)"
      ]
     },
     "execution_count": 71,
     "metadata": {},
     "output_type": "execute_result"
    }
   ],
   "source": [
    "user_answer = quiz_bot.get_user_answer()\n",
    "user_answer"
   ]
  },
  {
   "cell_type": "code",
   "execution_count": 72,
   "id": "e22a7cf0-f199-4ace-a909-c73492e86e47",
   "metadata": {},
   "outputs": [
    {
     "name": "stdout",
     "output_type": "stream",
     "text": [
      "The difference is -2464 dates\n"
     ]
    }
   ],
   "source": [
    "result = quiz_bot.check_user_answer(user_answer,ai_answer)\n",
    "print(result)"
   ]
  }
 ],
 "metadata": {
  "kernelspec": {
   "display_name": "Python 3 (ipykernel)",
   "language": "python",
   "name": "python3"
  },
  "language_info": {
   "codemirror_mode": {
    "name": "ipython",
    "version": 3
   },
   "file_extension": ".py",
   "mimetype": "text/x-python",
   "name": "python",
   "nbconvert_exporter": "python",
   "pygments_lexer": "ipython3",
   "version": "3.9.12"
  }
 },
 "nbformat": 4,
 "nbformat_minor": 5
}
